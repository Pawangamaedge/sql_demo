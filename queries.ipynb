{
 "cells": [
  {
   "cell_type": "code",
   "execution_count": 37,
   "metadata": {},
   "outputs": [],
   "source": [
    "import mysql.connector as ms\n",
    "connection=ms.connect(\n",
    "     host=\"localhost\",\n",
    "     user=\"root\",\n",
    "     password=\"12da12\"\n",
    ")\n",
    "\n",
    "my_cursor=connection.cursor()"
   ]
  },
  {
   "cell_type": "code",
   "execution_count": 38,
   "metadata": {},
   "outputs": [
    {
     "name": "stdout",
     "output_type": "stream",
     "text": [
      "('information_schema',)\n",
      "('management_demo',)\n",
      "('mydatabase',)\n",
      "('mysql',)\n",
      "('performance_schema',)\n",
      "('sys',)\n"
     ]
    }
   ],
   "source": [
    "my_cursor.execute(\"show databases\")\n",
    "for i in my_cursor:\n",
    "     print(i)"
   ]
  },
  {
   "cell_type": "code",
   "execution_count": 31,
   "metadata": {},
   "outputs": [],
   "source": [
    "my_cursor.execute(\"create database management_demo\")"
   ]
  },
  {
   "cell_type": "code",
   "execution_count": 39,
   "metadata": {},
   "outputs": [],
   "source": [
    "my_cursor.execute(\"use management_demo\")"
   ]
  },
  {
   "cell_type": "code",
   "execution_count": 40,
   "metadata": {},
   "outputs": [],
   "source": [
    "my_cursor.execute(\"create table customer(name varchar(225 ), address varchar(225), age int(2))\")"
   ]
  },
  {
   "cell_type": "code",
   "execution_count": 41,
   "metadata": {},
   "outputs": [],
   "source": [
    "my_cursor.execute(\"show tables\")"
   ]
  },
  {
   "cell_type": "code",
   "execution_count": 42,
   "metadata": {},
   "outputs": [
    {
     "name": "stdout",
     "output_type": "stream",
     "text": [
      "('customer',)\n"
     ]
    }
   ],
   "source": [
    "for i in my_cursor:\n",
    "     print(i)"
   ]
  },
  {
   "cell_type": "code",
   "execution_count": 43,
   "metadata": {},
   "outputs": [],
   "source": [
    "my_cursor.execute(\"alter table customer add column id int auto_increment primary key\")"
   ]
  },
  {
   "cell_type": "code",
   "execution_count": null,
   "metadata": {},
   "outputs": [],
   "source": [
    "# checks the columns name from the database columns\n",
    "my_cursor.execute(\"select column_name from information_schema.columns where table_name='customer'\")"
   ]
  },
  {
   "cell_type": "code",
   "execution_count": null,
   "metadata": {},
   "outputs": [],
   "source": [
    "for i in my_cursor:\n",
    "     print(i)"
   ]
  },
  {
   "cell_type": "code",
   "execution_count": 70,
   "metadata": {},
   "outputs": [],
   "source": [
    "data_insertions=\"insert into customer (name, address, age) values (%s, %s, %s)\"\n",
    "data_values=[\n",
    "  ('Peter', 'Lowstreet 4', 23),\n",
    "  ('Amy', 'Apple st 652', 24),\n",
    "  ('Hannah', 'Mountain 21', 55),\n",
    "  ('Michael', 'Valley 345', 64),\n",
    "  ('Sandy', 'Ocean blvd 2', 33),\n",
    "  ('Betty', 'Green Grass 1', 35),\n",
    "  ('Richard', 'Sky st 331', 20),\n",
    "  ('Susan', 'One way 98', 21),\n",
    "  ('Vicky', 'Yellow Garden 2', 25),\n",
    "  ('Ben', 'Park Lane 38', 19),\n",
    "  ('William', 'Central st 954', 22),\n",
    "  ('Chuck', 'Main Road 989', 30),\n",
    "  ('Viola', 'Sideway 1633', 34)\n",
    "]"
   ]
  },
  {
   "cell_type": "code",
   "execution_count": 71,
   "metadata": {},
   "outputs": [],
   "source": [
    "my_cursor.executemany(data_insertions, data_values)"
   ]
  },
  {
   "cell_type": "code",
   "execution_count": 106,
   "metadata": {},
   "outputs": [],
   "source": [
    "connection.commit()"
   ]
  },
  {
   "cell_type": "code",
   "execution_count": 107,
   "metadata": {},
   "outputs": [],
   "source": [
    "my_cursor.execute(\"select * from customer\")"
   ]
  },
  {
   "cell_type": "code",
   "execution_count": 108,
   "metadata": {},
   "outputs": [],
   "source": [
    "eniter_data=my_cursor.fetchall()"
   ]
  },
  {
   "cell_type": "code",
   "execution_count": 109,
   "metadata": {},
   "outputs": [
    {
     "data": {
      "text/plain": [
       "[('Peter', 'Lowstreet 4', 23, 1),\n",
       " ('Amy', 'Apple st 652', 24, 2),\n",
       " ('Hannah', 'Mountain 21', 55, 3),\n",
       " ('Michael', 'Valley 345', 64, 4),\n",
       " ('Sandy', 'Ocean blvd 2', 33, 5),\n",
       " ('Betty', 'Green Grass 1', 35, 6),\n",
       " ('Richard', 'Sky st 331', 20, 7),\n",
       " ('Susan', 'One way 98', 21, 8),\n",
       " ('Vicky', 'Yellow Garden 2', 25, 9),\n",
       " ('Ben', 'Park Lane 38', 19, 10),\n",
       " ('William', 'Central st 954', 22, 11),\n",
       " ('Chuck', 'Main Road 989', 30, 12),\n",
       " ('Viola', 'Sideway 1633', 34, 13)]"
      ]
     },
     "execution_count": 109,
     "metadata": {},
     "output_type": "execute_result"
    }
   ],
   "source": [
    "eniter_data"
   ]
  },
  {
   "cell_type": "code",
   "execution_count": 110,
   "metadata": {},
   "outputs": [],
   "source": [
    "my_cursor.execute(\"select name, address from customer\")"
   ]
  },
  {
   "cell_type": "code",
   "execution_count": 111,
   "metadata": {},
   "outputs": [
    {
     "name": "stdout",
     "output_type": "stream",
     "text": [
      "('Peter', 'Lowstreet 4')\n",
      "('Amy', 'Apple st 652')\n",
      "('Hannah', 'Mountain 21')\n",
      "('Michael', 'Valley 345')\n",
      "('Sandy', 'Ocean blvd 2')\n",
      "('Betty', 'Green Grass 1')\n",
      "('Richard', 'Sky st 331')\n",
      "('Susan', 'One way 98')\n",
      "('Vicky', 'Yellow Garden 2')\n",
      "('Ben', 'Park Lane 38')\n",
      "('William', 'Central st 954')\n",
      "('Chuck', 'Main Road 989')\n",
      "('Viola', 'Sideway 1633')\n"
     ]
    }
   ],
   "source": [
    "for i in my_cursor:\n",
    "     print(i)"
   ]
  },
  {
   "cell_type": "code",
   "execution_count": null,
   "metadata": {},
   "outputs": [],
   "source": []
  }
 ],
 "metadata": {
  "kernelspec": {
   "display_name": "Python 3",
   "language": "python",
   "name": "python3"
  },
  "language_info": {
   "codemirror_mode": {
    "name": "ipython",
    "version": 3
   },
   "file_extension": ".py",
   "mimetype": "text/x-python",
   "name": "python",
   "nbconvert_exporter": "python",
   "pygments_lexer": "ipython3",
   "version": "3.8.10"
  }
 },
 "nbformat": 4,
 "nbformat_minor": 2
}
