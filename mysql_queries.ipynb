{
 "cells": [
  {
   "cell_type": "code",
   "execution_count": null,
   "metadata": {},
   "outputs": [
    {
     "data": {
      "text/plain": [
       "1\n"
      ]
     },
     "metadata": {},
     "output_type": "display_data"
    }
   ],
   "source": [
    "import pymysql as ps\n",
    "\n",
    "connection=ps.connect(\n",
    "     host=\"localhost\",\n",
    "     user=\"root\",\n",
    "     password=\"12da12\"\n",
    ")\n",
    "\n",
    "my_cursor=connection.cursor()"
   ]
  },
  {
   "cell_type": "code",
   "execution_count": null,
   "metadata": {},
   "outputs": [
    {
     "data": {
      "text/plain": [
       "1\n"
      ]
     },
     "metadata": {},
     "output_type": "display_data"
    }
   ],
   "source": [
    "# creates the databases\n",
    "my_cursor.execute(\"create database management\")"
   ]
  },
  {
   "cell_type": "code",
   "execution_count": null,
   "metadata": {},
   "outputs": [
    {
     "data": {
      "text/plain": [
       "('database_demo',)\n",
       "('information_schema',)\n",
       "('management',)\n",
       "('mydatabase',)\n",
       "('mysql',)\n",
       "('new_database_demo',)\n",
       "('performance_schema',)\n",
       "('sys',)\n"
      ]
     },
     "metadata": {},
     "output_type": "display_data"
    }
   ],
   "source": [
    "# shows the databases\n",
    "my_database_show=my_cursor.execute(\"show databases\")\n",
    "for i in my_cursor:\n",
    "     print(i)"
   ]
  },
  {
   "cell_type": "code",
   "execution_count": null,
   "metadata": {},
   "outputs": [
    {
     "data": {
      "text/plain": [
       "0\n"
      ]
     },
     "metadata": {},
     "output_type": "display_data"
    }
   ],
   "source": [
    "# ues the database\n",
    "my_cursor.execute(\"use management\")"
   ]
  },
  {
   "cell_type": "code",
   "execution_count": null,
   "metadata": {},
   "outputs": [
    {
     "data": {
      "text/plain": [
       "0\n"
      ]
     },
     "metadata": {},
     "output_type": "display_data"
    }
   ],
   "source": [
    "# creates the table in data base (management)\n",
    "my_cursor.execute(\"create table customer(name varchar(225), address varchar(225), age int(10))\")"
   ]
  },
  {
   "cell_type": "code",
   "execution_count": null,
   "metadata": {},
   "outputs": [
    {
     "data": {
      "text/plain": [
       "1\n"
      ]
     },
     "metadata": {},
     "output_type": "display_data"
    }
   ],
   "source": [
    "# shows the table\n",
    "my_cursor.execute(\"show tables\")"
   ]
  },
  {
   "cell_type": "code",
   "execution_count": null,
   "metadata": {},
   "outputs": [
    {
     "data": {
      "text/plain": [
       "('customer',)\n"
      ]
     },
     "metadata": {},
     "output_type": "display_data"
    }
   ],
   "source": [
    "for i in my_cursor:\n",
    "     print(i)"
   ]
  },
  {
   "cell_type": "code",
   "execution_count": null,
   "metadata": {},
   "outputs": [
    {
     "data": {
      "text/plain": [
       "0\n"
      ]
     },
     "metadata": {},
     "output_type": "display_data"
    }
   ],
   "source": [
    "# adding primary key with altger command in customer table\n",
    "my_cursor.execute(\"alter table customer add column id int auto_increment primary key\")"
   ]
  },
  {
   "cell_type": "markdown",
   "metadata": {},
   "source": []
  },
  {
   "cell_type": "code",
   "execution_count": null,
   "metadata": {},
   "outputs": [],
   "source": [
    "# inserting data into the customer table\n",
    "\n",
    "data_insert = \"insert into customer (name, address, age) VALUES (%s, %s, %s)\"\n",
    "data_values = [\n",
    "  ('Peter', 'Lowstreet 4', 23),\n",
    "  ('Amy', 'Apple st 652', 24),\n",
    "  ('Hannah', 'Mountain 21', 55),\n",
    "  ('Michael', 'Valley 345', 64),\n",
    "  ('Sandy', 'Ocean blvd 2', 33),\n",
    "  ('Betty', 'Green Grass 1', 35),\n",
    "  ('Richard', 'Sky st 331', 20),\n",
    "  ('Susan', 'One way 98', 21),\n",
    "  ('Vicky', 'Yellow Garden 2', 25),\n",
    "  ('Ben', 'Park Lane 38', 19),\n",
    "  ('William', 'Central st 954', 22),\n",
    "  ('Chuck', 'Main Road 989', 30),\n",
    "  ('Viola', 'Sideway 1633', 34)\n",
    "]\n"
   ]
  },
  {
   "cell_type": "code",
   "execution_count": null,
   "metadata": {},
   "outputs": [
    {
     "data": {
      "text/plain": [
       "13\n"
      ]
     },
     "metadata": {},
     "output_type": "display_data"
    }
   ],
   "source": [
    "# executemany, executes multiple queries \n",
    "\n",
    "my_cursor.executemany(data_insert,data_values)"
   ]
  },
  {
   "cell_type": "code",
   "execution_count": null,
   "metadata": {},
   "outputs": [],
   "source": [
    "# commiting to connection \n",
    "connection.commit()"
   ]
  },
  {
   "cell_type": "code",
   "execution_count": null,
   "metadata": {},
   "outputs": [
    {
     "data": {
      "text/plain": [
       "26\n"
      ]
     },
     "metadata": {},
     "output_type": "display_data"
    }
   ],
   "source": [
    "# select query to select all from the table\n",
    "my_cursor.execute(\"select * from customer\")"
   ]
  },
  {
   "cell_type": "code",
   "execution_count": null,
   "metadata": {},
   "outputs": [
    {
     "data": {
      "text/plain": [
       "('Peter', 'Lowstreet 4', 23, 1)\n",
       "('Amy', 'Apple st 652', 24, 2)\n",
       "('Hannah', 'Mountain 21', 55, 3)\n",
       "('Michael', 'Valley 345', 64, 4)\n",
       "('Sandy', 'Ocean blvd 2', 33, 5)\n",
       "('Betty', 'Green Grass 1', 35, 6)\n",
       "('Richard', 'Sky st 331', 20, 7)\n",
       "('Susan', 'One way 98', 21, 8)\n",
       "('Vicky', 'Yellow Garden 2', 25, 9)\n",
       "('Ben', 'Park Lane 38', 19, 10)\n",
       "('William', 'Central st 954', 22, 11)\n",
       "('Chuck', 'Main Road 989', 30, 12)\n",
       "('Viola', 'Sideway 1633', 34, 13)\n",
       "('Peter', 'Lowstreet 4', 23, 14)\n",
       "('Amy', 'Apple st 652', 24, 15)\n",
       "('Hannah', 'Mountain 21', 55, 16)\n",
       "('Michael', 'Valley 345', 64, 17)\n",
       "('Sandy', 'Ocean blvd 2', 33, 18)\n",
       "('Betty', 'Green Grass 1', 35, 19)\n",
       "('Richard', 'Sky st 331', 20, 20)\n",
       "('Susan', 'One way 98', 21, 21)\n",
       "('Vicky', 'Yellow Garden 2', 25, 22)\n",
       "('Ben', 'Park Lane 38', 19, 23)\n",
       "('William', 'Central st 954', 22, 24)\n",
       "('Chuck', 'Main Road 989', 30, 25)\n",
       "('Viola', 'Sideway 1633', 34, 26)\n"
      ]
     },
     "metadata": {},
     "output_type": "display_data"
    }
   ],
   "source": [
    "# fetchall query fetches all the data which is present in the table \n",
    "final_result=my_cursor.fetchall()\n",
    "for i in final_result:\n",
    "     print(i)"
   ]
  },
  {
   "cell_type": "code",
   "execution_count": null,
   "metadata": {},
   "outputs": [
    {
     "data": {
      "text/plain": [
       "('Peter', 'Lowstreet 4')\n",
       "('Amy', 'Apple st 652')\n",
       "('Hannah', 'Mountain 21')\n",
       "('Michael', 'Valley 345')\n",
       "('Sandy', 'Ocean blvd 2')\n",
       "('Betty', 'Green Grass 1')\n",
       "('Richard', 'Sky st 331')\n",
       "('Susan', 'One way 98')\n",
       "('Vicky', 'Yellow Garden 2')\n",
       "('Ben', 'Park Lane 38')\n",
       "('William', 'Central st 954')\n",
       "('Chuck', 'Main Road 989')\n",
       "('Viola', 'Sideway 1633')\n",
       "('Peter', 'Lowstreet 4')\n",
       "('Amy', 'Apple st 652')\n",
       "('Hannah', 'Mountain 21')\n",
       "('Michael', 'Valley 345')\n",
       "('Sandy', 'Ocean blvd 2')\n",
       "('Betty', 'Green Grass 1')\n",
       "('Richard', 'Sky st 331')\n",
       "('Susan', 'One way 98')\n",
       "('Vicky', 'Yellow Garden 2')\n",
       "('Ben', 'Park Lane 38')\n",
       "('William', 'Central st 954')\n",
       "('Chuck', 'Main Road 989')\n",
       "('Viola', 'Sideway 1633')\n"
      ]
     },
     "metadata": {},
     "output_type": "display_data"
    }
   ],
   "source": [
    "# we can also fetchall desire attributes from the table\n",
    "my_cursor.execute(\"select name, address from customer\")\n",
    "for i in my_cursor:\n",
    "     print(i)"
   ]
  },
  {
   "cell_type": "code",
   "execution_count": null,
   "metadata": {},
   "outputs": [],
   "source": []
  },
  {
   "cell_type": "code",
   "execution_count": null,
   "metadata": {},
   "outputs": [],
   "source": []
  },
  {
   "cell_type": "code",
   "execution_count": null,
   "metadata": {},
   "outputs": [],
   "source": []
  },
  {
   "cell_type": "code",
   "execution_count": null,
   "metadata": {},
   "outputs": [],
   "source": []
  },
  {
   "cell_type": "code",
   "execution_count": null,
   "metadata": {},
   "outputs": [],
   "source": []
  },
  {
   "cell_type": "code",
   "execution_count": null,
   "metadata": {},
   "outputs": [],
   "source": []
  },
  {
   "cell_type": "code",
   "execution_count": null,
   "metadata": {},
   "outputs": [],
   "source": []
  }
 ],
 "metadata": {
  "language_info": {
   "name": "python"
  }
 },
 "nbformat": 4,
 "nbformat_minor": 2
}
